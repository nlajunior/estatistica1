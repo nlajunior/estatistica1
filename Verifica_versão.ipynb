{
  "nbformat": 4,
  "nbformat_minor": 0,
  "metadata": {
    "colab": {
      "name": "Verifica_versão.ipynb",
      "provenance": [],
      "include_colab_link": true
    },
    "kernelspec": {
      "name": "python3",
      "display_name": "Python 3"
    }
  },
  "cells": [
    {
      "cell_type": "markdown",
      "metadata": {
        "id": "view-in-github",
        "colab_type": "text"
      },
      "source": [
        "<a href=\"https://colab.research.google.com/github/nlajunior/estatistica1/blob/master/Verifica_versa%CC%83o.ipynb\" target=\"_parent\"><img src=\"https://colab.research.google.com/assets/colab-badge.svg\" alt=\"Open In Colab\"/></a>"
      ]
    },
    {
      "cell_type": "code",
      "metadata": {
        "id": "gSHqMRhFzcAb"
      },
      "source": [
        "import pandas\n",
        "import numpy\n",
        "import seaborn\n",
        "import scipy"
      ],
      "execution_count": null,
      "outputs": []
    },
    {
      "cell_type": "code",
      "metadata": {
        "id": "GQ5bxfxXzvKp",
        "outputId": "ae36393a-5ade-40d0-ad59-00531abfed38",
        "colab": {
          "base_uri": "https://localhost:8080/",
          "height": 89
        }
      },
      "source": [
        "print('Versão do pandas -> %s' % pandas.__version__)\n",
        "print('Versão do numpy -> %s' % numpy.__version__)\n",
        "print('Versão do seaborn -> %s' % seaborn.__version__)\n",
        "print('Versão do scipy -> %s' % scipy.__version__)"
      ],
      "execution_count": null,
      "outputs": [
        {
          "output_type": "stream",
          "text": [
            "Versão do pandas -> 0.22.0\n",
            "Versão do numpy -> 1.14.6\n",
            "Versão do seaborn -> 0.7.1\n",
            "Versão do scipy -> 1.1.0\n"
          ],
          "name": "stdout"
        }
      ]
    },
    {
      "cell_type": "code",
      "metadata": {
        "id": "IYakhWIx0Erv"
      },
      "source": [
        ""
      ],
      "execution_count": null,
      "outputs": []
    }
  ]
}